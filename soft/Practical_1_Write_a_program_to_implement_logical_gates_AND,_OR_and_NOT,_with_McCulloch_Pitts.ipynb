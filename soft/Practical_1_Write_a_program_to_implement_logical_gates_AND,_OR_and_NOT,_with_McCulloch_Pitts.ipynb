{
  "nbformat": 4,
  "nbformat_minor": 0,
  "metadata": {
    "colab": {
      "provenance": []
    },
    "kernelspec": {
      "name": "python3",
      "display_name": "Python 3"
    },
    "language_info": {
      "name": "python"
    }
  },
  "cells": [
    {
      "cell_type": "code",
      "execution_count": 1,
      "metadata": {
        "colab": {
          "base_uri": "https://localhost:8080/"
        },
        "id": "mavqxDKJ4x0S",
        "outputId": "08920d7f-4883-4274-a79f-4b165f32a2c7"
      },
      "outputs": [
        {
          "output_type": "stream",
          "name": "stdout",
          "text": [
            "AND Gate\n",
            "Input: 0, 0 → Output: 0\n",
            "Input: 0, 1 → Output: 0\n",
            "Input: 1, 0 → Output: 0\n",
            "Input: 1, 1 → Output: 1\n",
            "\n",
            "OR Gate\n",
            "Input: 0, 0 → Output: 0\n",
            "Input: 0, 1 → Output: 1\n",
            "Input: 1, 0 → Output: 1\n",
            "Input: 1, 1 → Output: 1\n",
            "\n",
            "NOT Gate\n",
            "Input: 0 → Output: 1\n",
            "Input: 1 → Output: 0\n"
          ]
        }
      ],
      "source": [
        "def McCulloch_Pitts(inputs, weights, threshold):\n",
        "    net_input = sum([i * w for i, w in zip(inputs, weights)])\n",
        "    return 1 if net_input >= threshold else 0\n",
        "\n",
        "# AND Gate\n",
        "print(\"AND Gate\")\n",
        "for x1 in [0, 1]:\n",
        "    for x2 in [0, 1]:\n",
        "        print(f\"Input: {x1}, {x2} → Output: {McCulloch_Pitts([x1, x2], [1, 1], 2)}\")\n",
        "\n",
        "# OR Gate\n",
        "print(\"\\nOR Gate\")\n",
        "for x1 in [0, 1]:\n",
        "    for x2 in [0, 1]:\n",
        "        print(f\"Input: {x1}, {x2} → Output: {McCulloch_Pitts([x1, x2], [1, 1], 1)}\")\n",
        "\n",
        "# NOT Gate\n",
        "print(\"\\nNOT Gate\")\n",
        "for x in [0, 1]:\n",
        "    print(f\"Input: {x} → Output: {McCulloch_Pitts([x], [-1], 0)}\")\n"
      ]
    },
    {
      "cell_type": "code",
      "source": [
        "x1 = [0, 0, 1, 1]\n",
        "x2 = [0, 1, 0, 1]\n",
        "w1 = [1, 1, 1, 1]\n",
        "w2 = [1, 1, 1, 1]\n",
        "t = 2  # threshold\n",
        "\n",
        "print(\"x1 x2 w1 w2 t  o\")  # header row\n",
        "for i in range(len(x1)):\n",
        "    net_input = x1[i] * w1[i] + x2[i] * w2[i]\n",
        "    output = 1 if net_input >= t else 0\n",
        "    print(x1[i], x2[i], w1[i], w2[i], t, output)\n"
      ],
      "metadata": {
        "colab": {
          "base_uri": "https://localhost:8080/"
        },
        "id": "e3MFtcxP5rRS",
        "outputId": "c97402bc-66b5-47ec-c60f-0b5e253f839d"
      },
      "execution_count": 5,
      "outputs": [
        {
          "output_type": "stream",
          "name": "stdout",
          "text": [
            "x1 x2 w1 w2 t  o\n",
            "0 0 1 1 2 0\n",
            "0 1 1 1 2 0\n",
            "1 0 1 1 2 0\n",
            "1 1 1 1 2 1\n"
          ]
        }
      ]
    },
    {
      "cell_type": "code",
      "source": [],
      "metadata": {
        "id": "RzfSzH5-58gL"
      },
      "execution_count": null,
      "outputs": []
    }
  ]
}