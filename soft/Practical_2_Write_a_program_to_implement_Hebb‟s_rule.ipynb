{
  "nbformat": 4,
  "nbformat_minor": 0,
  "metadata": {
    "colab": {
      "provenance": []
    },
    "kernelspec": {
      "name": "python3",
      "display_name": "Python 3"
    },
    "language_info": {
      "name": "python"
    }
  },
  "cells": [
    {
      "cell_type": "code",
      "execution_count": 12,
      "metadata": {
        "colab": {
          "base_uri": "https://localhost:8080/"
        },
        "id": "mavqxDKJ4x0S",
        "outputId": "1ce24d00-8360-42e9-b701-c062c9ab56bc"
      },
      "outputs": [
        {
          "output_type": "stream",
          "name": "stdout",
          "text": [
            "First input with target = 1\n",
            "Old weight = [ 1  1  1 -1  1 -1  1  1  1]\n",
            "Bias value = 1\n",
            "\n",
            "\n",
            "Second input with target = -1\n",
            "New weight = [ 0  0  0 -2  2 -2  0  0  0]\n",
            "Bias value = 0\n"
          ]
        }
      ],
      "source": [
        "import numpy as np\n",
        "\n",
        "# Input patterns\n",
        "x1 = np.array([1, 1, 1, -1, 1, -1, 1, 1, 1])   # First input\n",
        "x2 = np.array([1, 1, 1,  1, -1, 1, 1, 1, 1])   # Second input\n",
        "\n",
        "# Target outputs\n",
        "y = np.array([1, -1])\n",
        "\n",
        "# Initial weights and bias\n",
        "wt_old = np.zeros((9,), dtype=int)\n",
        "b = 0\n",
        "\n",
        "# ---- FIRST INPUT ----\n",
        "print(\"First input with target = 1\")\n",
        "for i in range(9):\n",
        "    wt_old[i] = wt_old[i] + x1[i] * y[0]\n",
        "\n",
        "wt_new = wt_old.copy()\n",
        "b = b + y[0]\n",
        "\n",
        "print(\"Old weight =\", wt_old)\n",
        "print(\"Bias value =\", b)\n",
        "print(\"\\n\")\n",
        "\n",
        "# ---- SECOND INPUT ----\n",
        "print(\"Second input with target = -1\")\n",
        "for i in range(9):\n",
        "    wt_new[i] = wt_old[i] + x2[i] * y[1]\n",
        "\n",
        "b = b + y[1]\n",
        "\n",
        "print(\"New weight =\", wt_new)\n",
        "print(\"Bias value =\", b)\n"
      ]
    },
    {
      "cell_type": "code",
      "source": [],
      "metadata": {
        "id": "RzfSzH5-58gL"
      },
      "execution_count": null,
      "outputs": []
    }
  ]
}