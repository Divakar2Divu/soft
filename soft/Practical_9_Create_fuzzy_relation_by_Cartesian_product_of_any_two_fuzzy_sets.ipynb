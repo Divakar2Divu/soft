{
  "nbformat": 4,
  "nbformat_minor": 0,
  "metadata": {
    "colab": {
      "provenance": []
    },
    "kernelspec": {
      "name": "python3",
      "display_name": "Python 3"
    },
    "language_info": {
      "name": "python"
    }
  },
  "cells": [
    {
      "cell_type": "code",
      "source": [
        "# Define a function to implement Cartesian product of two fuzzy sets\n",
        "def cartesian_product_fuzzy_relation(A, B):\n",
        "\n",
        "    relation = {}\n",
        "    for x in A:\n",
        "        for y in B:\n",
        "            relation[(x, y)] = min(A[x], B[y])\n",
        "    return relation\n",
        "\n",
        "# Example fuzzy sets\n",
        "A = {'x1': 0.7, 'x2': 0.4, 'x3': 0.9}\n",
        "B = {'y1': 0.6, 'y2': 0.8, 'y3': 0.5}\n",
        "\n",
        "# Compute Cartesian product fuzzy relation\n",
        "relation = cartesian_product_fuzzy_relation(A, B)\n",
        "\n",
        "# Display the results\n",
        "print(\"Fuzzy Set A:\", A)\n",
        "print(\"Fuzzy Set B:\", B)\n",
        "print(\"\\nCartesian Product Fuzzy Relation:\")\n",
        "for (x, y), value in relation.items():\n",
        "    print(f\"({x}, {y}): {value}\")\n"
      ],
      "metadata": {
        "colab": {
          "base_uri": "https://localhost:8080/"
        },
        "id": "RzfSzH5-58gL",
        "outputId": "6100f369-6a13-45e6-e435-687426e42a68"
      },
      "execution_count": 26,
      "outputs": [
        {
          "output_type": "stream",
          "name": "stdout",
          "text": [
            "Fuzzy Set A: {'x1': 0.7, 'x2': 0.4, 'x3': 0.9}\n",
            "Fuzzy Set B: {'y1': 0.6, 'y2': 0.8, 'y3': 0.5}\n",
            "\n",
            "Cartesian Product Fuzzy Relation:\n",
            "(x1, y1): 0.6\n",
            "(x1, y2): 0.7\n",
            "(x1, y3): 0.5\n",
            "(x2, y1): 0.4\n",
            "(x2, y2): 0.4\n",
            "(x2, y3): 0.4\n",
            "(x3, y1): 0.6\n",
            "(x3, y2): 0.8\n",
            "(x3, y3): 0.5\n"
          ]
        }
      ]
    },
    {
      "cell_type": "code",
      "source": [],
      "metadata": {
        "id": "9uqaH5OFALhS"
      },
      "execution_count": null,
      "outputs": []
    }
  ]
}