{
  "nbformat": 4,
  "nbformat_minor": 0,
  "metadata": {
    "colab": {
      "provenance": []
    },
    "kernelspec": {
      "name": "python3",
      "display_name": "Python 3"
    },
    "language_info": {
      "name": "python"
    }
  },
  "cells": [
    {
      "cell_type": "code",
      "source": [
        "# Cartesian product of fuzzy sets\n",
        "def cartesian_product_fuzzy_relation(A, B):\n",
        "    relation = {}\n",
        "    for x in A:\n",
        "        for y in B:\n",
        "            relation[(x, y)] = min(A[x], B[y])\n",
        "    return relation\n",
        "\n",
        "# Max-Min composition of two fuzzy relations\n",
        "def max_min_composition(R, S):\n",
        "    T = {}\n",
        "    x_elements = set(x for x, y in R)\n",
        "    y_elements = set(y for x, y in R)\n",
        "    z_elements = set(z for y, z in S)\n",
        "\n",
        "    for x in x_elements:\n",
        "        for z in z_elements:\n",
        "            min_values = []\n",
        "            for y in y_elements:\n",
        "                if (x, y) in R and (y, z) in S:\n",
        "                    min_values.append(min(R[(x, y)], S[(y, z)]))\n",
        "            if min_values:\n",
        "                T[(x, z)] = max(min_values)\n",
        "    return T\n",
        "\n",
        "# Example fuzzy sets\n",
        "A = {'x1': 0.7, 'x2': 0.4, 'x3': 0.9}\n",
        "B = {'y1': 0.6, 'y2': 0.8, 'y3': 0.5}\n",
        "C = {'z1': 0.5, 'z2': 0.9, 'z3': 0.3}\n",
        "\n",
        "# Compute fuzzy relations\n",
        "R = cartesian_product_fuzzy_relation(A, B)  # A × B\n",
        "S = cartesian_product_fuzzy_relation(B, C)  # B × C\n",
        "\n",
        "# Perform max-min composition\n",
        "T = max_min_composition(R, S)\n",
        "\n",
        "# Display the results\n",
        "print(\"Fuzzy Set A:\", A)\n",
        "print(\"Fuzzy Set B:\", B)\n",
        "print(\"Fuzzy Set C:\", C)\n",
        "\n",
        "print(\"\\nFuzzy Relation R (A × B):\")\n",
        "for (x, y), value in R.items():\n",
        "    print(f\"({x}, {y}): {value}\")\n",
        "\n",
        "print(\"\\nFuzzy Relation S (B × C):\")\n",
        "for (y, z), value in S.items():\n",
        "    print(f\"({y}, {z}): {value}\")\n",
        "\n",
        "print(\"\\nMax-Min Composition (R o S):\")\n",
        "for (x, z), value in T.items():\n",
        "    print(f\"({x}, {z}): {value}\")\n"
      ],
      "metadata": {
        "colab": {
          "base_uri": "https://localhost:8080/"
        },
        "id": "RzfSzH5-58gL",
        "outputId": "aaabeee5-cf29-4e1f-b9ee-67cb0ebc3f25"
      },
      "execution_count": 25,
      "outputs": [
        {
          "output_type": "stream",
          "name": "stdout",
          "text": [
            "Fuzzy Set A: {'x1': 0.7, 'x2': 0.4, 'x3': 0.9}\n",
            "Fuzzy Set B: {'y1': 0.6, 'y2': 0.8, 'y3': 0.5}\n",
            "Fuzzy Set C: {'z1': 0.5, 'z2': 0.9, 'z3': 0.3}\n",
            "\n",
            "Fuzzy Relation R (A × B):\n",
            "(x1, y1): 0.6\n",
            "(x1, y2): 0.7\n",
            "(x1, y3): 0.5\n",
            "(x2, y1): 0.4\n",
            "(x2, y2): 0.4\n",
            "(x2, y3): 0.4\n",
            "(x3, y1): 0.6\n",
            "(x3, y2): 0.8\n",
            "(x3, y3): 0.5\n",
            "\n",
            "Fuzzy Relation S (B × C):\n",
            "(y1, z1): 0.5\n",
            "(y1, z2): 0.6\n",
            "(y1, z3): 0.3\n",
            "(y2, z1): 0.5\n",
            "(y2, z2): 0.8\n",
            "(y2, z3): 0.3\n",
            "(y3, z1): 0.5\n",
            "(y3, z2): 0.5\n",
            "(y3, z3): 0.3\n",
            "\n",
            "Max-Min Composition (R o S):\n",
            "(x1, z1): 0.5\n",
            "(x1, z2): 0.7\n",
            "(x1, z3): 0.3\n",
            "(x2, z1): 0.4\n",
            "(x2, z2): 0.4\n",
            "(x2, z3): 0.3\n",
            "(x3, z1): 0.5\n",
            "(x3, z2): 0.8\n",
            "(x3, z3): 0.3\n"
          ]
        }
      ]
    },
    {
      "cell_type": "code",
      "source": [],
      "metadata": {
        "id": "9uqaH5OFALhS"
      },
      "execution_count": null,
      "outputs": []
    }
  ]
}