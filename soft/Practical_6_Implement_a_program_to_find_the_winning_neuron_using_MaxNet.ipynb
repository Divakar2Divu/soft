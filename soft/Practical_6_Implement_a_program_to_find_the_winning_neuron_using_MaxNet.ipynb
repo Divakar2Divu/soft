{
  "nbformat": 4,
  "nbformat_minor": 0,
  "metadata": {
    "colab": {
      "provenance": []
    },
    "kernelspec": {
      "name": "python3",
      "display_name": "Python 3"
    },
    "language_info": {
      "name": "python"
    }
  },
  "cells": [
    {
      "cell_type": "code",
      "source": [
        "import numpy as np\n",
        "\n",
        "def maxnet(input_vector, epsilon=0.1, max_iterations=100):\n",
        "    activations = np.copy(input_vector)\n",
        "\n",
        "    for _ in range(max_iterations):\n",
        "        # Compute inhibition from all other neurons\n",
        "        inhibition = epsilon * (np.sum(activations) - activations)\n",
        "        # Update activations\n",
        "        activations = activations - inhibition\n",
        "        # Set negative activations to zero\n",
        "        activations[activations < 0] = 0\n",
        "\n",
        "        # If only one neuron is left active, stop\n",
        "        if np.count_nonzero(activations) == 1:\n",
        "            break\n",
        "\n",
        "    # Return the index of the winning neuron\n",
        "    return np.argmax(activations)\n",
        "\n",
        "# Example usage\n",
        "input_vector = np.array([0.2, 0.5, 0.1, 0.7, 0.4])\n",
        "winning_neuron = maxnet(input_vector)\n",
        "\n",
        "print(f\"The winning neuron is at index {winning_neuron} with activation {input_vector[winning_neuron]}\")\n"
      ],
      "metadata": {
        "colab": {
          "base_uri": "https://localhost:8080/"
        },
        "id": "RzfSzH5-58gL",
        "outputId": "72305b62-0605-401f-937b-a173844a60f1"
      },
      "execution_count": 19,
      "outputs": [
        {
          "output_type": "stream",
          "name": "stdout",
          "text": [
            "The winning neuron is at index 3 with activation 0.7\n"
          ]
        }
      ]
    },
    {
      "cell_type": "code",
      "source": [],
      "metadata": {
        "id": "9uqaH5OFALhS"
      },
      "execution_count": null,
      "outputs": []
    }
  ]
}