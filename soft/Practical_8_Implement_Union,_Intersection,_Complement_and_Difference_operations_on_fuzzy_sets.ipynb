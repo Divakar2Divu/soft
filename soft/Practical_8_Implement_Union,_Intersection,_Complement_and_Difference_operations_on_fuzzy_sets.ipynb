{
  "nbformat": 4,
  "nbformat_minor": 0,
  "metadata": {
    "colab": {
      "provenance": []
    },
    "kernelspec": {
      "name": "python3",
      "display_name": "Python 3"
    },
    "language_info": {
      "name": "python"
    }
  },
  "cells": [
    {
      "cell_type": "code",
      "source": [
        "# Union of Fuzzy Sets: max(A(x), B(x))\n",
        "def fuzzy_union(A, B):\n",
        "    return {x: max(A.get(x, 0), B.get(x, 0)) for x in set(A).union(B)}\n",
        "\n",
        "# Intersection of Fuzzy Sets: min(A(x), B(x))\n",
        "def fuzzy_intersection(A, B):\n",
        "    return {x: min(A.get(x, 0), B.get(x, 0)) for x in set(A).intersection(B)}\n",
        "\n",
        "# Complement of Fuzzy Set A: 1 - A(x)\n",
        "def fuzzy_complement(A):\n",
        "    return {x: 1 - A[x] for x in A}\n",
        "\n",
        "# Difference of Fuzzy Sets: min(A(x), 1 - B(x))\n",
        "def fuzzy_difference(A, B):\n",
        "    return {x: min(A.get(x, 0), 1 - B.get(x, 0)) for x in set(A).union(B)}\n",
        "\n",
        "# Example fuzzy sets\n",
        "A = {'x1': 0.1, 'x2': 0.4, 'x3': 0.7}\n",
        "B = {'x2': 0.5, 'x3': 0.2, 'x4': 0.8}\n",
        "\n",
        "# Perform operations\n",
        "union_result = fuzzy_union(A, B)\n",
        "intersection_result = fuzzy_intersection(A, B)\n",
        "complement_result_A = fuzzy_complement(A)\n",
        "difference_result = fuzzy_difference(A, B)\n",
        "\n",
        "# Display results\n",
        "print(\"Fuzzy Set A:\", A)\n",
        "print(\"Fuzzy Set B:\", B)\n",
        "print(\"\\nResults of operations on fuzzy sets:\")\n",
        "print(\"Union (A ∪ B):\", union_result)\n",
        "print(\"Intersection (A ∩ B):\", intersection_result)\n",
        "print(\"Complement (A'):\", complement_result_A)\n",
        "print(\"Difference (A - B):\", difference_result)\n"
      ],
      "metadata": {
        "colab": {
          "base_uri": "https://localhost:8080/"
        },
        "id": "RzfSzH5-58gL",
        "outputId": "f2131bbc-58e5-43fa-e246-8f14e00eafd5"
      },
      "execution_count": 27,
      "outputs": [
        {
          "output_type": "stream",
          "name": "stdout",
          "text": [
            "Fuzzy Set A: {'x1': 0.1, 'x2': 0.4, 'x3': 0.7}\n",
            "Fuzzy Set B: {'x2': 0.5, 'x3': 0.2, 'x4': 0.8}\n",
            "\n",
            "Results of operations on fuzzy sets:\n",
            "Union (A ∪ B): {'x4': 0.8, 'x1': 0.1, 'x3': 0.7, 'x2': 0.5}\n",
            "Intersection (A ∩ B): {'x2': 0.4, 'x3': 0.2}\n",
            "Complement (A'): {'x1': 0.9, 'x2': 0.6, 'x3': 0.30000000000000004}\n",
            "Difference (A - B): {'x4': 0, 'x1': 0.1, 'x3': 0.7, 'x2': 0.4}\n"
          ]
        }
      ]
    },
    {
      "cell_type": "code",
      "source": [],
      "metadata": {
        "id": "9uqaH5OFALhS"
      },
      "execution_count": null,
      "outputs": []
    }
  ]
}