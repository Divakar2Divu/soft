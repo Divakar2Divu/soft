{
  "nbformat": 4,
  "nbformat_minor": 0,
  "metadata": {
    "colab": {
      "provenance": []
    },
    "kernelspec": {
      "name": "python3",
      "display_name": "Python 3"
    },
    "language_info": {
      "name": "python"
    }
  },
  "cells": [
    {
      "cell_type": "code",
      "source": [
        "import numpy as np\n",
        "\n",
        "# Step 1: Define the exemplar vectors (pre-defined inputs)\n",
        "exemplar_vectors = np.array([\n",
        "    [1, 0, 1, 0, 1, 1, 0, 1],\n",
        "    [0, 1, 0, 1, 0, 0, 1, 0],\n",
        "    [1, 1, 1, 1, 0, 1, 0, 0]\n",
        "])\n",
        "\n",
        "# Step 2: Define the input vector\n",
        "input_vector = np.array([1, 0, 1, 1, 0, 1, 0, 1])\n",
        "\n",
        "# Step 3: Hamming distance function\n",
        "def hamming_distance(v1, v2):\n",
        "    \"\"\"\n",
        "    Compute the Hamming distance between two binary vectors.\n",
        "    \"\"\"\n",
        "    return np.sum(v1 != v2)\n",
        "\n",
        "# Step 4: Hamming network to find closest exemplar\n",
        "def hamming_network(input_vector, exemplar_vectors):\n",
        "    \"\"\"\n",
        "    Find the exemplar vector with the smallest Hamming distance to the input vector.\n",
        "    \"\"\"\n",
        "    distances = np.array([hamming_distance(input_vector, ev) for ev in exemplar_vectors])\n",
        "    min_distance_index = np.argmin(distances)\n",
        "    return min_distance_index, distances[min_distance_index]\n",
        "\n",
        "# Step 5: Run the network\n",
        "index, distance = hamming_network(input_vector, exemplar_vectors)\n",
        "\n",
        "# Step 6: Output the result\n",
        "print(f\"The input vector is closest to exemplar vector at index {index} with a Hamming distance of {distance}.\")\n"
      ],
      "metadata": {
        "colab": {
          "base_uri": "https://localhost:8080/"
        },
        "id": "RzfSzH5-58gL",
        "outputId": "94862714-3bf0-420a-c95a-6ead7ab89572"
      },
      "execution_count": 17,
      "outputs": [
        {
          "output_type": "stream",
          "name": "stdout",
          "text": [
            "The input vector is closest to exemplar vector at index 0 with a Hamming distance of 2.\n"
          ]
        }
      ]
    },
    {
      "cell_type": "code",
      "source": [],
      "metadata": {
        "id": "9uqaH5OFALhS"
      },
      "execution_count": null,
      "outputs": []
    }
  ]
}