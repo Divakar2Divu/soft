{
  "nbformat": 4,
  "nbformat_minor": 0,
  "metadata": {
    "colab": {
      "provenance": []
    },
    "kernelspec": {
      "name": "python3",
      "display_name": "Python 3"
    },
    "language_info": {
      "name": "python"
    }
  },
  "cells": [
    {
      "cell_type": "code",
      "execution_count": null,
      "metadata": {
        "colab": {
          "base_uri": "https://localhost:8080/"
        },
        "id": "mavqxDKJ4x0S",
        "outputId": "08920d7f-4883-4274-a79f-4b165f32a2c7"
      },
      "outputs": [
        {
          "output_type": "stream",
          "name": "stdout",
          "text": [
            "AND Gate\n",
            "Input: 0, 0 → Output: 0\n",
            "Input: 0, 1 → Output: 0\n",
            "Input: 1, 0 → Output: 0\n",
            "Input: 1, 1 → Output: 1\n",
            "\n",
            "OR Gate\n",
            "Input: 0, 0 → Output: 0\n",
            "Input: 0, 1 → Output: 1\n",
            "Input: 1, 0 → Output: 1\n",
            "Input: 1, 1 → Output: 1\n",
            "\n",
            "NOT Gate\n",
            "Input: 0 → Output: 1\n",
            "Input: 1 → Output: 0\n"
          ]
        }
      ],
      "source": [
        "#Practical 1 Write a program to implement logical gates AND,OR and NOT with McCulloch-Pitts\n",
        "def McCulloch_Pitts(inputs, weights, threshold):\n",
        "    net_input = sum([i * w for i, w in zip(inputs, weights)])\n",
        "    return 1 if net_input >= threshold else 0\n",
        "\n",
        "# AND Gate\n",
        "print(\"AND Gate\")\n",
        "for x1 in [0, 1]:\n",
        "    for x2 in [0, 1]:\n",
        "        print(f\"Input: {x1}, {x2} → Output: {McCulloch_Pitts([x1, x2], [1, 1], 2)}\")\n",
        "\n",
        "# OR Gate\n",
        "print(\"\\nOR Gate\")\n",
        "for x1 in [0, 1]:\n",
        "    for x2 in [0, 1]:\n",
        "        print(f\"Input: {x1}, {x2} → Output: {McCulloch_Pitts([x1, x2], [1, 1], 1)}\")\n",
        "\n",
        "# NOT Gate\n",
        "print(\"\\nNOT Gate\")\n",
        "for x in [0, 1]:\n",
        "    print(f\"Input: {x} → Output: {McCulloch_Pitts([x], [-1], 0)}\")\n"
      ]
    },
    {
      "cell_type": "code",
      "source": [
        "x1 = [0, 0, 1, 1]\n",
        "x2 = [0, 1, 0, 1]\n",
        "w1 = [1, 1, 1, 1]\n",
        "w2 = [1, 1, 1, 1]\n",
        "t = 2  # threshold\n",
        "\n",
        "print(\"x1 x2 w1 w2 t  o\")  # header row\n",
        "for i in range(len(x1)):\n",
        "    net_input = x1[i] * w1[i] + x2[i] * w2[i]\n",
        "    output = 1 if net_input >= t else 0\n",
        "    print(x1[i], x2[i], w1[i], w2[i], t, output)\n"
      ],
      "metadata": {
        "colab": {
          "base_uri": "https://localhost:8080/"
        },
        "id": "e3MFtcxP5rRS",
        "outputId": "c97402bc-66b5-47ec-c60f-0b5e253f839d"
      },
      "execution_count": null,
      "outputs": [
        {
          "output_type": "stream",
          "name": "stdout",
          "text": [
            "x1 x2 w1 w2 t  o\n",
            "0 0 1 1 2 0\n",
            "0 1 1 1 2 0\n",
            "1 0 1 1 2 0\n",
            "1 1 1 1 2 1\n"
          ]
        }
      ]
    },
    {
      "cell_type": "code",
      "source": [
        "#Practical 2 Write a program to implement Hebb‟s rule\n",
        "import numpy as np\n",
        "\n",
        "# Input patterns\n",
        "x1 = np.array([1, 1, 1, -1, 1, -1, 1, 1, 1])   # First input\n",
        "x2 = np.array([1, 1, 1,  1, -1, 1, 1, 1, 1])   # Second input\n",
        "\n",
        "# Target outputs\n",
        "y = np.array([1, -1])\n",
        "\n",
        "# Initial weights and bias\n",
        "wt_old = np.zeros((9,), dtype=int)\n",
        "b = 0\n",
        "\n",
        "# ---- FIRST INPUT ----\n",
        "print(\"First input with target = 1\")\n",
        "for i in range(9):\n",
        "    wt_old[i] = wt_old[i] + x1[i] * y[0]\n",
        "\n",
        "wt_new = wt_old.copy()\n",
        "b = b + y[0]\n",
        "\n",
        "print(\"Old weight =\", wt_old)\n",
        "print(\"Bias value =\", b)\n",
        "print(\"\\n\")\n",
        "\n",
        "# ---- SECOND INPUT ----\n",
        "print(\"Second input with target = -1\")\n",
        "for i in range(9):\n",
        "    wt_new[i] = wt_old[i] + x2[i] * y[1]\n",
        "\n",
        "b = b + y[1]\n",
        "\n",
        "print(\"New weight =\", wt_new)\n",
        "print(\"Bias value =\", b)\n"
      ],
      "metadata": {
        "id": "RzfSzH5-58gL",
        "colab": {
          "base_uri": "https://localhost:8080/"
        },
        "outputId": "5e86d379-5655-4d18-cd9c-1edc19c6ef7d"
      },
      "execution_count": 1,
      "outputs": [
        {
          "output_type": "stream",
          "name": "stdout",
          "text": [
            "First input with target = 1\n",
            "Old weight = [ 1  1  1 -1  1 -1  1  1  1]\n",
            "Bias value = 1\n",
            "\n",
            "\n",
            "Second input with target = -1\n",
            "New weight = [ 0  0  0 -2  2 -2  0  0  0]\n",
            "Bias value = 0\n"
          ]
        }
      ]
    },
    {
      "cell_type": "code",
      "source": [
        "#Practical 3 Implement Kohonen Self organizing map\n",
        "import numpy as np\n",
        "import matplotlib.pyplot as plt\n",
        "\n",
        "# Step 1: Generate random input data (100 samples with 3 features)\n",
        "data = np.random.rand(100, 3)\n",
        "\n",
        "# Step 2: Initialize SOM grid (10x10 neurons), each with 3 weights\n",
        "som_x, som_y = 10, 10\n",
        "input_len = 3\n",
        "weights = np.random.rand(som_x, som_y, input_len)\n",
        "\n",
        "# Step 3: Set training parameters\n",
        "learning_rate = 0.5\n",
        "radius = max(som_x, som_y) / 2\n",
        "radius_decay = 0.99\n",
        "learning_rate_decay = 0.99\n",
        "num_iterations = 1000\n",
        "\n",
        "# Step 4: Train the SOM\n",
        "for iteration in range(num_iterations):\n",
        "    # Pick a random sample\n",
        "    sample = data[np.random.randint(0, len(data))]\n",
        "\n",
        "    # Find Best Matching Unit (BMU)\n",
        "    distances = np.linalg.norm(weights - sample, axis=-1)\n",
        "    bmu_index = np.unravel_index(np.argmin(distances), (som_x, som_y))\n",
        "\n",
        "    # Update weights of BMU and its neighbors\n",
        "    for i in range(som_x):\n",
        "        for j in range(som_y):\n",
        "            dist_to_bmu = np.linalg.norm(np.array([i, j]) - np.array(bmu_index))\n",
        "            if dist_to_bmu <= radius:\n",
        "                influence = np.exp(-dist_to_bmu**2 / (2 * (radius**2)))\n",
        "                weights[i, j] += influence * learning_rate * (sample - weights[i, j])\n",
        "\n",
        "    # Decay learning rate and radius\n",
        "    learning_rate *= learning_rate_decay\n",
        "    radius *= radius_decay\n",
        "\n",
        "# Step 5: Visualize SOM as color grid\n",
        "flat_weights = weights.reshape(som_x * som_y, input_len)\n",
        "plt.imshow(flat_weights, cmap='viridis')\n",
        "plt.colorbar()\n",
        "plt.title(\"Simplified Kohonen SOM Output\")\n",
        "plt.show()\n"
      ],
      "metadata": {
        "colab": {
          "base_uri": "https://localhost:8080/",
          "height": 452
        },
        "id": "cGY3ytaXOObK",
        "outputId": "ffec4ce1-e82e-4032-f3e8-9aadf13c51ae"
      },
      "execution_count": 2,
      "outputs": [
        {
          "output_type": "display_data",
          "data": {
            "text/plain": [
              "<Figure size 640x480 with 2 Axes>"
            ],
            "image/png": "[encoded data removed]"
          },
          "metadata": {}
        }
      ]
    },
    {
      "cell_type": "code",
      "source": [
        "#Practical 4 Solve the Hamming network given the exemplarvectors\n",
        "import numpy as np\n",
        "\n",
        "# Step 1: Define the exemplar vectors (pre-defined inputs)\n",
        "exemplar_vectors = np.array([\n",
        "    [1, 0, 1, 0, 1, 1, 0, 1],\n",
        "    [0, 1, 0, 1, 0, 0, 1, 0],\n",
        "    [1, 1, 1, 1, 0, 1, 0, 0]\n",
        "])\n",
        "\n",
        "# Step 2: Define the input vector\n",
        "input_vector = np.array([1, 0, 1, 1, 0, 1, 0, 1])\n",
        "\n",
        "# Step 3: Hamming distance function\n",
        "def hamming_distance(v1, v2):\n",
        "    \"\"\"\n",
        "    Compute the Hamming distance between two binary vectors.\n",
        "    \"\"\"\n",
        "    return np.sum(v1 != v2)\n",
        "\n",
        "# Step 4: Hamming network to find closest exemplar\n",
        "def hamming_network(input_vector, exemplar_vectors):\n",
        "    \"\"\"\n",
        "    Find the exemplar vector with the smallest Hamming distance to the input vector.\n",
        "    \"\"\"\n",
        "    distances = np.array([hamming_distance(input_vector, ev) for ev in exemplar_vectors])\n",
        "    min_distance_index = np.argmin(distances)\n",
        "    return min_distance_index, distances[min_distance_index]\n",
        "\n",
        "# Step 5: Run the network\n",
        "index, distance = hamming_network(input_vector, exemplar_vectors)\n",
        "\n",
        "# Step 6: Output the result\n",
        "print(f\"The input vector is closest to exemplar vector at index {index} with a Hamming distance of {distance}.\")\n"
      ],
      "metadata": {
        "colab": {
          "base_uri": "https://localhost:8080/"
        },
        "id": "CZFwjBK5OdIr",
        "outputId": "491423a2-e8d4-4199-f6ac-d5b492b9a6ff"
      },
      "execution_count": 3,
      "outputs": [
        {
          "output_type": "stream",
          "name": "stdout",
          "text": [
            "The input vector is closest to exemplar vector at index 0 with a Hamming distance of 2.\n"
          ]
        }
      ]
    },
    {
      "cell_type": "code",
      "source": [
        "#Practical 5 Write a program for implementing BAM network\n",
        "import numpy as np\n",
        "\n",
        "# Defining BAM class\n",
        "class BAM:\n",
        "    def __init__(self):\n",
        "        self.weights = None\n",
        "\n",
        "    def train(self, patterns_A, patterns_B):\n",
        "        \"\"\"\n",
        "        Train weights using Hebbian learning rule.\n",
        "        \"\"\"\n",
        "        num_features_A = patterns_A.shape[1]\n",
        "        num_features_B = patterns_B.shape[1]\n",
        "        self.weights = np.zeros((num_features_A, num_features_B))\n",
        "\n",
        "        for a, b in zip(patterns_A, patterns_B):\n",
        "            self.weights += np.outer(a, b)\n",
        "\n",
        "    def recall_A(self, pattern_B):\n",
        "        \"\"\"\n",
        "        Recall pattern A given pattern B.\n",
        "        \"\"\"\n",
        "        result = np.dot(pattern_B, self.weights.T)\n",
        "        return np.sign(result)\n",
        "\n",
        "    def recall_B(self, pattern_A):\n",
        "        \"\"\"\n",
        "        Recall pattern B given pattern A.\n",
        "        \"\"\"\n",
        "        result = np.dot(pattern_A, self.weights)\n",
        "        return np.sign(result)\n",
        "\n",
        "# Example usage\n",
        "if __name__ == \"__main__\":\n",
        "    # Step 1: Define the training patterns\n",
        "    patterns_A = np.array([\n",
        "        [1, 1, -1],\n",
        "        [-1, 1, 1],\n",
        "        [-1, -1, -1]\n",
        "    ])\n",
        "\n",
        "    patterns_B = np.array([\n",
        "        [1, -1],\n",
        "        [-1, 1],\n",
        "        [1, 1]\n",
        "    ])\n",
        "\n",
        "    # Step 2: Initialize and train BAM\n",
        "    bam = BAM()\n",
        "    bam.train(patterns_A, patterns_B)\n",
        "\n",
        "    # Step 3: Test recall for pattern B\n",
        "    test_pattern_B = np.array([1, -1])\n",
        "    recalled_pattern_A = bam.recall_A(test_pattern_B)\n",
        "    print(\"Recalled Pattern A for test pattern B\", test_pattern_B, \"is:\", recalled_pattern_A)\n",
        "\n",
        "    # Step 4: Test recall for pattern A\n",
        "    test_pattern_A = np.array([1, 1, -1])\n",
        "    recalled_pattern_B = bam.recall_B(test_pattern_A)\n",
        "    print(\"Recalled Pattern B for test pattern A\", test_pattern_A, \"is:\", recalled_pattern_B)\n"
      ],
      "metadata": {
        "colab": {
          "base_uri": "https://localhost:8080/"
        },
        "id": "683YPryPO4rc",
        "outputId": "556c777d-967b-4794-8fdc-0353e33df32a"
      },
      "execution_count": 4,
      "outputs": [
        {
          "output_type": "stream",
          "name": "stdout",
          "text": [
            "Recalled Pattern A for test pattern B [ 1 -1] is: [ 1.  0. -1.]\n",
            "Recalled Pattern B for test pattern A [ 1  1 -1] is: [ 1. -1.]\n"
          ]
        }
      ]
    },
    {
      "cell_type": "code",
      "source": [
        "#Practical 6 Implement a program to find the winning neuron using MaxNet\n",
        "import numpy as np\n",
        "\n",
        "def maxnet(input_vector, epsilon=0.1, max_iterations=100):\n",
        "    activations = np.copy(input_vector)\n",
        "\n",
        "    for _ in range(max_iterations):\n",
        "        # Compute inhibition from all other neurons\n",
        "        inhibition = epsilon * (np.sum(activations) - activations)\n",
        "        # Update activations\n",
        "        activations = activations - inhibition\n",
        "        # Set negative activations to zero\n",
        "        activations[activations < 0] = 0\n",
        "\n",
        "        # If only one neuron is left active, stop\n",
        "        if np.count_nonzero(activations) == 1:\n",
        "            break\n",
        "\n",
        "    # Return the index of the winning neuron\n",
        "    return np.argmax(activations)\n",
        "\n",
        "# Example usage\n",
        "input_vector = np.array([0.2, 0.5, 0.1, 0.7, 0.4])\n",
        "winning_neuron = maxnet(input_vector)\n",
        "\n",
        "print(f\"The winning neuron is at index {winning_neuron} with activation {input_vector[winning_neuron]}\")\n"
      ],
      "metadata": {
        "colab": {
          "base_uri": "https://localhost:8080/"
        },
        "id": "-mDNQlvEPL6V",
        "outputId": "c9a259eb-e692-4717-9fe7-113e06015e77"
      },
      "execution_count": 5,
      "outputs": [
        {
          "output_type": "stream",
          "name": "stdout",
          "text": [
            "The winning neuron is at index 3 with activation 0.7\n"
          ]
        }
      ]
    },
    {
      "cell_type": "code",
      "source": [
        "#Practical 7 Implement De-Morgan‟s Law\n",
        "def de_morgans_law_1(A, B):\n",
        "    \"\"\"\n",
        "    Law 1: ¬(A ∨ B) = ¬A ∧ ¬B\n",
        "    \"\"\"\n",
        "    not_A_or_B = not (A or B)\n",
        "    not_A_and_not_B = (not A) and (not B)\n",
        "    return not_A_or_B, not_A_and_not_B\n",
        "\n",
        "def de_morgans_law_2(A, B):\n",
        "    \"\"\"\n",
        "    Law 2: ¬(A ∧ B) = ¬A ∨ ¬B\n",
        "    \"\"\"\n",
        "    not_A_and_B = not (A and B)\n",
        "    not_A_or_not_B = (not A) or (not B)\n",
        "    return not_A_and_B, not_A_or_not_B\n",
        "\n",
        "# Get inputs\n",
        "A = input(\"Enter A (True/False): \").strip().capitalize()\n",
        "B = input(\"Enter B (True/False): \").strip().capitalize()\n",
        "\n",
        "# Convert to Boolean\n",
        "A = A == \"True\"\n",
        "B = B == \"True\"\n",
        "\n",
        "# Law 1\n",
        "result_1 = de_morgans_law_1(A, B)\n",
        "print(\"\\nDe Morgan's Law 1: ¬(A ∨ B) = ¬A ∧ ¬B\")\n",
        "print(f\"¬({A} ∨ {B}) = {result_1[0]}\")\n",
        "print(f\"¬{A} ∧ ¬{B} = {result_1[1]}\")\n",
        "print(f\"Law holds: {result_1[0] == result_1[1]}\")\n",
        "\n",
        "# Law 2\n",
        "result_2 = de_morgans_law_2(A, B)\n",
        "print(\"\\nDe Morgan's Law 2: ¬(A ∧ B) = ¬A ∨ ¬B\")\n",
        "print(f\"¬({A} ∧ {B}) = {result_2[0]}\")\n",
        "print(f\"¬{A} ∨ ¬{B} = {result_2[1]}\")\n",
        "print(f\"Law holds: {result_2[0] == result_2[1]}\")\n"
      ],
      "metadata": {
        "colab": {
          "base_uri": "https://localhost:8080/"
        },
        "id": "qNdXTdGnQD0K",
        "outputId": "c663d96c-8811-408c-dead-2230062740b5"
      },
      "execution_count": 6,
      "outputs": [
        {
          "output_type": "stream",
          "name": "stdout",
          "text": [
            "Enter A (True/False): True\n",
            "Enter B (True/False): False\n",
            "\n",
            "De Morgan's Law 1: ¬(A ∨ B) = ¬A ∧ ¬B\n",
            "¬(True ∨ False) = False\n",
            "¬True ∧ ¬False = False\n",
            "Law holds: True\n",
            "\n",
            "De Morgan's Law 2: ¬(A ∧ B) = ¬A ∨ ¬B\n",
            "¬(True ∧ False) = True\n",
            "¬True ∨ ¬False = True\n",
            "Law holds: True\n"
          ]
        }
      ]
    },
    {
      "cell_type": "code",
      "source": [
        "# Practical 8 Implement Union, Intersection, Complement and Difference operations on fuzzy sets\n",
        "def fuzzy_union(A, B):\n",
        "    return {x: max(A.get(x, 0), B.get(x, 0)) for x in set(A).union(B)}\n",
        "\n",
        "# Intersection of Fuzzy Sets: min(A(x), B(x))\n",
        "def fuzzy_intersection(A, B):\n",
        "    return {x: min(A.get(x, 0), B.get(x, 0)) for x in set(A).intersection(B)}\n",
        "\n",
        "# Complement of Fuzzy Set A: 1 - A(x)\n",
        "def fuzzy_complement(A):\n",
        "    return {x: 1 - A[x] for x in A}\n",
        "\n",
        "# Difference of Fuzzy Sets: min(A(x), 1 - B(x))\n",
        "def fuzzy_difference(A, B):\n",
        "    return {x: min(A.get(x, 0), 1 - B.get(x, 0)) for x in set(A).union(B)}\n",
        "\n",
        "# Example fuzzy sets\n",
        "A = {'x1': 0.1, 'x2': 0.4, 'x3': 0.7}\n",
        "B = {'x2': 0.5, 'x3': 0.2, 'x4': 0.8}\n",
        "\n",
        "# Perform operations\n",
        "union_result = fuzzy_union(A, B)\n",
        "intersection_result = fuzzy_intersection(A, B)\n",
        "complement_result_A = fuzzy_complement(A)\n",
        "difference_result = fuzzy_difference(A, B)\n",
        "\n",
        "# Display results\n",
        "print(\"Fuzzy Set A:\", A)\n",
        "print(\"Fuzzy Set B:\", B)\n",
        "print(\"\\nResults of operations on fuzzy sets:\")\n",
        "print(\"Union (A ∪ B):\", union_result)\n",
        "print(\"Intersection (A ∩ B):\", intersection_result)\n",
        "print(\"Complement (A'):\", complement_result_A)\n",
        "print(\"Difference (A - B):\", difference_result)\n"
      ],
      "metadata": {
        "colab": {
          "base_uri": "https://localhost:8080/"
        },
        "id": "_-olIBbPQUpX",
        "outputId": "c8df9166-3142-4720-cbfd-085decd0f9cf"
      },
      "execution_count": 7,
      "outputs": [
        {
          "output_type": "stream",
          "name": "stdout",
          "text": [
            "Fuzzy Set A: {'x1': 0.1, 'x2': 0.4, 'x3': 0.7}\n",
            "Fuzzy Set B: {'x2': 0.5, 'x3': 0.2, 'x4': 0.8}\n",
            "\n",
            "Results of operations on fuzzy sets:\n",
            "Union (A ∪ B): {'x1': 0.1, 'x4': 0.8, 'x3': 0.7, 'x2': 0.5}\n",
            "Intersection (A ∩ B): {'x2': 0.4, 'x3': 0.2}\n",
            "Complement (A'): {'x1': 0.9, 'x2': 0.6, 'x3': 0.30000000000000004}\n",
            "Difference (A - B): {'x1': 0.1, 'x4': 0, 'x3': 0.7, 'x2': 0.4}\n"
          ]
        }
      ]
    },
    {
      "cell_type": "code",
      "source": [
        "# Practical 9 Create fuzzy relation by Cartesian product of any two fuzzy sets\n",
        "def cartesian_product_fuzzy_relation(A, B):\n",
        "\n",
        "    relation = {}\n",
        "    for x in A:\n",
        "        for y in B:\n",
        "            relation[(x, y)] = min(A[x], B[y])\n",
        "    return relation\n",
        "\n",
        "# Example fuzzy sets\n",
        "A = {'x1': 0.7, 'x2': 0.4, 'x3': 0.9}\n",
        "B = {'y1': 0.6, 'y2': 0.8, 'y3': 0.5}\n",
        "\n",
        "# Compute Cartesian product fuzzy relation\n",
        "relation = cartesian_product_fuzzy_relation(A, B)\n",
        "\n",
        "# Display the results\n",
        "print(\"Fuzzy Set A:\", A)\n",
        "print(\"Fuzzy Set B:\", B)\n",
        "print(\"\\nCartesian Product Fuzzy Relation:\")\n",
        "for (x, y), value in relation.items():\n",
        "    print(f\"({x}, {y}): {value}\")\n"
      ],
      "metadata": {
        "colab": {
          "base_uri": "https://localhost:8080/"
        },
        "id": "i3psSDGlQ704",
        "outputId": "c6a2ac75-3bf3-4918-c8a9-31ea53efe258"
      },
      "execution_count": 8,
      "outputs": [
        {
          "output_type": "stream",
          "name": "stdout",
          "text": [
            "Fuzzy Set A: {'x1': 0.7, 'x2': 0.4, 'x3': 0.9}\n",
            "Fuzzy Set B: {'y1': 0.6, 'y2': 0.8, 'y3': 0.5}\n",
            "\n",
            "Cartesian Product Fuzzy Relation:\n",
            "(x1, y1): 0.6\n",
            "(x1, y2): 0.7\n",
            "(x1, y3): 0.5\n",
            "(x2, y1): 0.4\n",
            "(x2, y2): 0.4\n",
            "(x2, y3): 0.4\n",
            "(x3, y1): 0.6\n",
            "(x3, y2): 0.8\n",
            "(x3, y3): 0.5\n"
          ]
        }
      ]
    },
    {
      "cell_type": "code",
      "source": [
        "# Practical 10 Perform max-min composition on any two fuzzyrelations\n",
        "def cartesian_product_fuzzy_relation(A, B):\n",
        "    relation = {}\n",
        "    for x in A:\n",
        "        for y in B:\n",
        "            relation[(x, y)] = min(A[x], B[y])\n",
        "    return relation\n",
        "\n",
        "# Max-Min composition of two fuzzy relations\n",
        "def max_min_composition(R, S):\n",
        "    T = {}\n",
        "    x_elements = set(x for x, y in R)\n",
        "    y_elements = set(y for x, y in R)\n",
        "    z_elements = set(z for y, z in S)\n",
        "\n",
        "    for x in x_elements:\n",
        "        for z in z_elements:\n",
        "            min_values = []\n",
        "            for y in y_elements:\n",
        "                if (x, y) in R and (y, z) in S:\n",
        "                    min_values.append(min(R[(x, y)], S[(y, z)]))\n",
        "            if min_values:\n",
        "                T[(x, z)] = max(min_values)\n",
        "    return T\n",
        "\n",
        "# Example fuzzy sets\n",
        "A = {'x1': 0.7, 'x2': 0.4, 'x3': 0.9}\n",
        "B = {'y1': 0.6, 'y2': 0.8, 'y3': 0.5}\n",
        "C = {'z1': 0.5, 'z2': 0.9, 'z3': 0.3}\n",
        "\n",
        "# Compute fuzzy relations\n",
        "R = cartesian_product_fuzzy_relation(A, B)  # A × B\n",
        "S = cartesian_product_fuzzy_relation(B, C)  # B × C\n",
        "\n",
        "# Perform max-min composition\n",
        "T = max_min_composition(R, S)\n",
        "\n",
        "# Display the results\n",
        "print(\"Fuzzy Set A:\", A)\n",
        "print(\"Fuzzy Set B:\", B)\n",
        "print(\"Fuzzy Set C:\", C)\n",
        "\n",
        "print(\"\\nFuzzy Relation R (A × B):\")\n",
        "for (x, y), value in R.items():\n",
        "    print(f\"({x}, {y}): {value}\")\n",
        "\n",
        "print(\"\\nFuzzy Relation S (B × C):\")\n",
        "for (y, z), value in S.items():\n",
        "    print(f\"({y}, {z}): {value}\")\n",
        "\n",
        "print(\"\\nMax-Min Composition (R o S):\")\n",
        "for (x, z), value in T.items():\n",
        "    print(f\"({x}, {z}): {value}\")\n"
      ],
      "metadata": {
        "colab": {
          "base_uri": "https://localhost:8080/"
        },
        "id": "KqIm_KdERPhP",
        "outputId": "d208a2bd-5241-4185-cd48-4c06e681b6f9"
      },
      "execution_count": 9,
      "outputs": [
        {
          "output_type": "stream",
          "name": "stdout",
          "text": [
            "Fuzzy Set A: {'x1': 0.7, 'x2': 0.4, 'x3': 0.9}\n",
            "Fuzzy Set B: {'y1': 0.6, 'y2': 0.8, 'y3': 0.5}\n",
            "Fuzzy Set C: {'z1': 0.5, 'z2': 0.9, 'z3': 0.3}\n",
            "\n",
            "Fuzzy Relation R (A × B):\n",
            "(x1, y1): 0.6\n",
            "(x1, y2): 0.7\n",
            "(x1, y3): 0.5\n",
            "(x2, y1): 0.4\n",
            "(x2, y2): 0.4\n",
            "(x2, y3): 0.4\n",
            "(x3, y1): 0.6\n",
            "(x3, y2): 0.8\n",
            "(x3, y3): 0.5\n",
            "\n",
            "Fuzzy Relation S (B × C):\n",
            "(y1, z1): 0.5\n",
            "(y1, z2): 0.6\n",
            "(y1, z3): 0.3\n",
            "(y2, z1): 0.5\n",
            "(y2, z2): 0.8\n",
            "(y2, z3): 0.3\n",
            "(y3, z1): 0.5\n",
            "(y3, z2): 0.5\n",
            "(y3, z3): 0.3\n",
            "\n",
            "Max-Min Composition (R o S):\n",
            "(x2, z2): 0.4\n",
            "(x2, z1): 0.4\n",
            "(x2, z3): 0.3\n",
            "(x1, z2): 0.7\n",
            "(x1, z1): 0.5\n",
            "(x1, z3): 0.3\n",
            "(x3, z2): 0.8\n",
            "(x3, z1): 0.5\n",
            "(x3, z3): 0.3\n"
          ]
        }
      ]
    },
    {
      "cell_type": "code",
      "source": [],
      "metadata": {
        "id": "oQEq0JHgRe4R"
      },
      "execution_count": null,
      "outputs": []
    }
  ]
}