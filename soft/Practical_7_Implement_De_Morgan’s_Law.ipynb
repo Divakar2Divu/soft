{
  "nbformat": 4,
  "nbformat_minor": 0,
  "metadata": {
    "colab": {
      "provenance": []
    },
    "kernelspec": {
      "name": "python3",
      "display_name": "Python 3"
    },
    "language_info": {
      "name": "python"
    }
  },
  "cells": [
    {
      "cell_type": "code",
      "source": [
        "def de_morgans_law_1(A, B):\n",
        "    \"\"\"\n",
        "    Law 1: ¬(A ∨ B) = ¬A ∧ ¬B\n",
        "    \"\"\"\n",
        "    not_A_or_B = not (A or B)\n",
        "    not_A_and_not_B = (not A) and (not B)\n",
        "    return not_A_or_B, not_A_and_not_B\n",
        "\n",
        "def de_morgans_law_2(A, B):\n",
        "    \"\"\"\n",
        "    Law 2: ¬(A ∧ B) = ¬A ∨ ¬B\n",
        "    \"\"\"\n",
        "    not_A_and_B = not (A and B)\n",
        "    not_A_or_not_B = (not A) or (not B)\n",
        "    return not_A_and_B, not_A_or_not_B\n",
        "\n",
        "# Get inputs\n",
        "A = input(\"Enter A (True/False): \").strip().capitalize()\n",
        "B = input(\"Enter B (True/False): \").strip().capitalize()\n",
        "\n",
        "# Convert to Boolean\n",
        "A = A == \"True\"\n",
        "B = B == \"True\"\n",
        "\n",
        "# Law 1\n",
        "result_1 = de_morgans_law_1(A, B)\n",
        "print(\"\\nDe Morgan's Law 1: ¬(A ∨ B) = ¬A ∧ ¬B\")\n",
        "print(f\"¬({A} ∨ {B}) = {result_1[0]}\")\n",
        "print(f\"¬{A} ∧ ¬{B} = {result_1[1]}\")\n",
        "print(f\"Law holds: {result_1[0] == result_1[1]}\")\n",
        "\n",
        "# Law 2\n",
        "result_2 = de_morgans_law_2(A, B)\n",
        "print(\"\\nDe Morgan's Law 2: ¬(A ∧ B) = ¬A ∨ ¬B\")\n",
        "print(f\"¬({A} ∧ {B}) = {result_2[0]}\")\n",
        "print(f\"¬{A} ∨ ¬{B} = {result_2[1]}\")\n",
        "print(f\"Law holds: {result_2[0] == result_2[1]}\")\n"
      ],
      "metadata": {
        "colab": {
          "base_uri": "https://localhost:8080/"
        },
        "id": "RzfSzH5-58gL",
        "outputId": "815d7854-ff08-4bd9-e27f-5fbc5627efc0"
      },
      "execution_count": 20,
      "outputs": [
        {
          "output_type": "stream",
          "name": "stdout",
          "text": [
            "Enter A (True/False): True\n",
            "Enter B (True/False): False\n",
            "\n",
            "De Morgan's Law 1: ¬(A ∨ B) = ¬A ∧ ¬B\n",
            "¬(True ∨ False) = False\n",
            "¬True ∧ ¬False = False\n",
            "Law holds: True\n",
            "\n",
            "De Morgan's Law 2: ¬(A ∧ B) = ¬A ∨ ¬B\n",
            "¬(True ∧ False) = True\n",
            "¬True ∨ ¬False = True\n",
            "Law holds: True\n"
          ]
        }
      ]
    },
    {
      "cell_type": "code",
      "source": [],
      "metadata": {
        "id": "9uqaH5OFALhS"
      },
      "execution_count": null,
      "outputs": []
    }
  ]
}