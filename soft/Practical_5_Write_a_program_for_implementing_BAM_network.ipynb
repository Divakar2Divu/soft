{
  "nbformat": 4,
  "nbformat_minor": 0,
  "metadata": {
    "colab": {
      "provenance": []
    },
    "kernelspec": {
      "name": "python3",
      "display_name": "Python 3"
    },
    "language_info": {
      "name": "python"
    }
  },
  "cells": [
    {
      "cell_type": "code",
      "source": [
        "import numpy as np\n",
        "\n",
        "# Defining BAM class\n",
        "class BAM:\n",
        "    def __init__(self):\n",
        "        self.weights = None\n",
        "\n",
        "    def train(self, patterns_A, patterns_B):\n",
        "        \"\"\"\n",
        "        Train weights using Hebbian learning rule.\n",
        "        \"\"\"\n",
        "        num_features_A = patterns_A.shape[1]\n",
        "        num_features_B = patterns_B.shape[1]\n",
        "        self.weights = np.zeros((num_features_A, num_features_B))\n",
        "\n",
        "        for a, b in zip(patterns_A, patterns_B):\n",
        "            self.weights += np.outer(a, b)\n",
        "\n",
        "    def recall_A(self, pattern_B):\n",
        "        \"\"\"\n",
        "        Recall pattern A given pattern B.\n",
        "        \"\"\"\n",
        "        result = np.dot(pattern_B, self.weights.T)\n",
        "        return np.sign(result)\n",
        "\n",
        "    def recall_B(self, pattern_A):\n",
        "        \"\"\"\n",
        "        Recall pattern B given pattern A.\n",
        "        \"\"\"\n",
        "        result = np.dot(pattern_A, self.weights)\n",
        "        return np.sign(result)\n",
        "\n",
        "# Example usage\n",
        "if __name__ == \"__main__\":\n",
        "    # Step 1: Define the training patterns\n",
        "    patterns_A = np.array([\n",
        "        [1, 1, -1],\n",
        "        [-1, 1, 1],\n",
        "        [-1, -1, -1]\n",
        "    ])\n",
        "\n",
        "    patterns_B = np.array([\n",
        "        [1, -1],\n",
        "        [-1, 1],\n",
        "        [1, 1]\n",
        "    ])\n",
        "\n",
        "    # Step 2: Initialize and train BAM\n",
        "    bam = BAM()\n",
        "    bam.train(patterns_A, patterns_B)\n",
        "\n",
        "    # Step 3: Test recall for pattern B\n",
        "    test_pattern_B = np.array([1, -1])\n",
        "    recalled_pattern_A = bam.recall_A(test_pattern_B)\n",
        "    print(\"Recalled Pattern A for test pattern B\", test_pattern_B, \"is:\", recalled_pattern_A)\n",
        "\n",
        "    # Step 4: Test recall for pattern A\n",
        "    test_pattern_A = np.array([1, 1, -1])\n",
        "    recalled_pattern_B = bam.recall_B(test_pattern_A)\n",
        "    print(\"Recalled Pattern B for test pattern A\", test_pattern_A, \"is:\", recalled_pattern_B)\n"
      ],
      "metadata": {
        "colab": {
          "base_uri": "https://localhost:8080/"
        },
        "id": "RzfSzH5-58gL",
        "outputId": "46b5b7d7-607b-4fb3-e9b0-5999bd9e1f88"
      },
      "execution_count": 18,
      "outputs": [
        {
          "output_type": "stream",
          "name": "stdout",
          "text": [
            "Recalled Pattern A for test pattern B [ 1 -1] is: [ 1.  0. -1.]\n",
            "Recalled Pattern B for test pattern A [ 1  1 -1] is: [ 1. -1.]\n"
          ]
        }
      ]
    },
    {
      "cell_type": "code",
      "source": [],
      "metadata": {
        "id": "9uqaH5OFALhS"
      },
      "execution_count": null,
      "outputs": []
    }
  ]
}